{
 "cells": [
  {
   "cell_type": "code",
   "execution_count": 1,
   "metadata": {},
   "outputs": [],
   "source": [
    "import pandas as pd\n",
    "import numpy as np\n",
    "import matplotlib.pyplot as plt\n",
    "import random"
   ]
  },
  {
   "cell_type": "code",
   "execution_count": 12,
   "metadata": {},
   "outputs": [
    {
     "data": {
      "text/html": [
       "<div>\n",
       "<style scoped>\n",
       "    .dataframe tbody tr th:only-of-type {\n",
       "        vertical-align: middle;\n",
       "    }\n",
       "\n",
       "    .dataframe tbody tr th {\n",
       "        vertical-align: top;\n",
       "    }\n",
       "\n",
       "    .dataframe thead th {\n",
       "        text-align: right;\n",
       "    }\n",
       "</style>\n",
       "<table border=\"1\" class=\"dataframe\">\n",
       "  <thead>\n",
       "    <tr style=\"text-align: right;\">\n",
       "      <th></th>\n",
       "      <th>snapped_at</th>\n",
       "      <th>price</th>\n",
       "      <th>market_cap</th>\n",
       "      <th>total_volume</th>\n",
       "    </tr>\n",
       "  </thead>\n",
       "  <tbody>\n",
       "    <tr>\n",
       "      <th>0</th>\n",
       "      <td>2015-08-07 00:00:00 UTC</td>\n",
       "      <td>2.831620</td>\n",
       "      <td>0.000000e+00</td>\n",
       "      <td>9.062200e+04</td>\n",
       "    </tr>\n",
       "    <tr>\n",
       "      <th>1</th>\n",
       "      <td>2015-08-08 00:00:00 UTC</td>\n",
       "      <td>1.330750</td>\n",
       "      <td>8.033948e+07</td>\n",
       "      <td>3.680700e+05</td>\n",
       "    </tr>\n",
       "    <tr>\n",
       "      <th>2</th>\n",
       "      <td>2015-08-10 00:00:00 UTC</td>\n",
       "      <td>0.687586</td>\n",
       "      <td>4.155631e+07</td>\n",
       "      <td>4.004641e+05</td>\n",
       "    </tr>\n",
       "    <tr>\n",
       "      <th>3</th>\n",
       "      <td>2015-08-11 00:00:00 UTC</td>\n",
       "      <td>1.067379</td>\n",
       "      <td>6.453901e+07</td>\n",
       "      <td>1.518998e+06</td>\n",
       "    </tr>\n",
       "    <tr>\n",
       "      <th>4</th>\n",
       "      <td>2015-08-12 00:00:00 UTC</td>\n",
       "      <td>1.256613</td>\n",
       "      <td>7.601326e+07</td>\n",
       "      <td>2.073893e+06</td>\n",
       "    </tr>\n",
       "    <tr>\n",
       "      <th>...</th>\n",
       "      <td>...</td>\n",
       "      <td>...</td>\n",
       "      <td>...</td>\n",
       "      <td>...</td>\n",
       "    </tr>\n",
       "    <tr>\n",
       "      <th>2248</th>\n",
       "      <td>2021-10-03 00:00:00 UTC</td>\n",
       "      <td>3393.924249</td>\n",
       "      <td>3.994560e+11</td>\n",
       "      <td>2.133505e+10</td>\n",
       "    </tr>\n",
       "    <tr>\n",
       "      <th>2249</th>\n",
       "      <td>2021-10-04 00:00:00 UTC</td>\n",
       "      <td>3426.387081</td>\n",
       "      <td>4.039710e+11</td>\n",
       "      <td>1.813036e+10</td>\n",
       "    </tr>\n",
       "    <tr>\n",
       "      <th>2250</th>\n",
       "      <td>2021-10-05 00:00:00 UTC</td>\n",
       "      <td>3390.310408</td>\n",
       "      <td>4.009560e+11</td>\n",
       "      <td>1.989847e+10</td>\n",
       "    </tr>\n",
       "    <tr>\n",
       "      <th>2251</th>\n",
       "      <td>2021-10-06 00:00:00 UTC</td>\n",
       "      <td>3520.342257</td>\n",
       "      <td>4.154940e+11</td>\n",
       "      <td>1.902492e+10</td>\n",
       "    </tr>\n",
       "    <tr>\n",
       "      <th>2252</th>\n",
       "      <td>2021-10-07 00:00:00 UTC</td>\n",
       "      <td>3592.176130</td>\n",
       "      <td>4.235600e+11</td>\n",
       "      <td>2.470936e+10</td>\n",
       "    </tr>\n",
       "  </tbody>\n",
       "</table>\n",
       "<p>2253 rows × 4 columns</p>\n",
       "</div>"
      ],
      "text/plain": [
       "                   snapped_at        price    market_cap  total_volume\n",
       "0     2015-08-07 00:00:00 UTC     2.831620  0.000000e+00  9.062200e+04\n",
       "1     2015-08-08 00:00:00 UTC     1.330750  8.033948e+07  3.680700e+05\n",
       "2     2015-08-10 00:00:00 UTC     0.687586  4.155631e+07  4.004641e+05\n",
       "3     2015-08-11 00:00:00 UTC     1.067379  6.453901e+07  1.518998e+06\n",
       "4     2015-08-12 00:00:00 UTC     1.256613  7.601326e+07  2.073893e+06\n",
       "...                       ...          ...           ...           ...\n",
       "2248  2021-10-03 00:00:00 UTC  3393.924249  3.994560e+11  2.133505e+10\n",
       "2249  2021-10-04 00:00:00 UTC  3426.387081  4.039710e+11  1.813036e+10\n",
       "2250  2021-10-05 00:00:00 UTC  3390.310408  4.009560e+11  1.989847e+10\n",
       "2251  2021-10-06 00:00:00 UTC  3520.342257  4.154940e+11  1.902492e+10\n",
       "2252  2021-10-07 00:00:00 UTC  3592.176130  4.235600e+11  2.470936e+10\n",
       "\n",
       "[2253 rows x 4 columns]"
      ]
     },
     "execution_count": 12,
     "metadata": {},
     "output_type": "execute_result"
    }
   ],
   "source": [
    "data = pd.read_csv('eth-usd-max.csv')\n",
    "data"
   ]
  },
  {
   "cell_type": "code",
   "execution_count": 34,
   "metadata": {},
   "outputs": [
    {
     "data": {
      "image/png": "[encoded data removed]",
      "text/plain": [
       "<Figure size 432x288 with 1 Axes>"
      ]
     },
     "metadata": {
      "needs_background": "light"
     },
     "output_type": "display_data"
    }
   ],
   "source": [
    "index = random.randint(0,2253)\n",
    "data_needed = data.iloc[index:index+30]\n",
    "x = [i for i in range(30)]\n",
    "plt.plot(x,data_needed['price'])\n",
    "plt.title('ETH\\'s prices in the past 30 days',fontsize=15)\n",
    "plt.grid(axis=\"y\")\n",
    "plt.xlabel(\"Day\") #X轴标签\n",
    "plt.ylabel(\"ETH price\") #Y轴标签\n",
    "plt.show()"
   ]
  },
  {
   "cell_type": "code",
   "execution_count": 6,
   "metadata": {},
   "outputs": [
    {
     "data": {
      "text/plain": [
       "89.85371731"
      ]
     },
     "execution_count": 6,
     "metadata": {},
     "output_type": "execute_result"
    }
   ],
   "source": [
    "a = data.iloc[1221]['price']\n",
    "a"
   ]
  },
  {
   "cell_type": "code",
   "execution_count": 13,
   "metadata": {},
   "outputs": [
    {
     "data": {
      "text/plain": [
       "Text(0, 0.5, 'ETH price')"
      ]
     },
     "execution_count": 13,
     "metadata": {},
     "output_type": "execute_result"
    },
    {
     "data": {
      "image/png": "[encoded data removed]",
      "text/plain": [
       "<Figure size 432x288 with 1 Axes>"
      ]
     },
     "metadata": {
      "needs_background": "light"
     },
     "output_type": "display_data"
    }
   ],
   "source": [
    "fig = plt.figure()\n",
    "index = random.randint(30, 2243)\n",
    "data_needed = data.iloc[index - 30: index]\n",
    "x = [i for i in range(30)]\n",
    "plt.plot(x, data_needed['price'])\n",
    "plt.title('ETH\\'s prices in the past 30 days', fontsize=15)\n",
    "plt.grid(axis=\"y\")\n",
    "plt.xlabel(\"Day\")\n",
    "plt.ylabel(\"ETH price\")"
   ]
  },
  {
   "cell_type": "code",
   "execution_count": 17,
   "metadata": {},
   "outputs": [],
   "source": [
    "from io import BytesIO\n",
    "import base64\n",
    "sio = BytesIO()\n",
    "fig.savefig(sio, format='png', bbox_inches='tight', pad_inches=0.0)"
   ]
  },
  {
   "cell_type": "code",
   "execution_count": 18,
   "metadata": {},
   "outputs": [
    {
     "data": {
      "image/png": "[encoded data removed]",
      "text/plain": [
       "<Figure size 432x288 with 1 Axes>"
      ]
     },
     "execution_count": 18,
     "metadata": {},
     "output_type": "execute_result"
    }
   ],
   "source": [
    "fig"
   ]
  },
  {
   "cell_type": "code",
   "execution_count": 19,
   "metadata": {},
   "outputs": [
    {
     "data": {
      "text/html": [
       "<div>\n",
       "<style scoped>\n",
       "    .dataframe tbody tr th:only-of-type {\n",
       "        vertical-align: middle;\n",
       "    }\n",
       "\n",
       "    .dataframe tbody tr th {\n",
       "        vertical-align: top;\n",
       "    }\n",
       "\n",
       "    .dataframe thead th {\n",
       "        text-align: right;\n",
       "    }\n",
       "</style>\n",
       "<table border=\"1\" class=\"dataframe\">\n",
       "  <thead>\n",
       "    <tr style=\"text-align: right;\">\n",
       "      <th></th>\n",
       "      <th>snapped_at</th>\n",
       "      <th>price</th>\n",
       "      <th>market_cap</th>\n",
       "      <th>total_volume</th>\n",
       "    </tr>\n",
       "  </thead>\n",
       "  <tbody>\n",
       "    <tr>\n",
       "      <th>0</th>\n",
       "      <td>2015-08-07 00:00:00 UTC</td>\n",
       "      <td>2.831620</td>\n",
       "      <td>0.000000e+00</td>\n",
       "      <td>9.062200e+04</td>\n",
       "    </tr>\n",
       "    <tr>\n",
       "      <th>1</th>\n",
       "      <td>2015-08-08 00:00:00 UTC</td>\n",
       "      <td>1.330750</td>\n",
       "      <td>8.033948e+07</td>\n",
       "      <td>3.680700e+05</td>\n",
       "    </tr>\n",
       "    <tr>\n",
       "      <th>2</th>\n",
       "      <td>2015-08-10 00:00:00 UTC</td>\n",
       "      <td>0.687586</td>\n",
       "      <td>4.155631e+07</td>\n",
       "      <td>4.004641e+05</td>\n",
       "    </tr>\n",
       "    <tr>\n",
       "      <th>3</th>\n",
       "      <td>2015-08-11 00:00:00 UTC</td>\n",
       "      <td>1.067379</td>\n",
       "      <td>6.453901e+07</td>\n",
       "      <td>1.518998e+06</td>\n",
       "    </tr>\n",
       "    <tr>\n",
       "      <th>4</th>\n",
       "      <td>2015-08-12 00:00:00 UTC</td>\n",
       "      <td>1.256613</td>\n",
       "      <td>7.601326e+07</td>\n",
       "      <td>2.073893e+06</td>\n",
       "    </tr>\n",
       "    <tr>\n",
       "      <th>...</th>\n",
       "      <td>...</td>\n",
       "      <td>...</td>\n",
       "      <td>...</td>\n",
       "      <td>...</td>\n",
       "    </tr>\n",
       "    <tr>\n",
       "      <th>2248</th>\n",
       "      <td>2021-10-03 00:00:00 UTC</td>\n",
       "      <td>3393.924249</td>\n",
       "      <td>3.994560e+11</td>\n",
       "      <td>2.133505e+10</td>\n",
       "    </tr>\n",
       "    <tr>\n",
       "      <th>2249</th>\n",
       "      <td>2021-10-04 00:00:00 UTC</td>\n",
       "      <td>3426.387081</td>\n",
       "      <td>4.039710e+11</td>\n",
       "      <td>1.813036e+10</td>\n",
       "    </tr>\n",
       "    <tr>\n",
       "      <th>2250</th>\n",
       "      <td>2021-10-05 00:00:00 UTC</td>\n",
       "      <td>3390.310408</td>\n",
       "      <td>4.009560e+11</td>\n",
       "      <td>1.989847e+10</td>\n",
       "    </tr>\n",
       "    <tr>\n",
       "      <th>2251</th>\n",
       "      <td>2021-10-06 00:00:00 UTC</td>\n",
       "      <td>3520.342257</td>\n",
       "      <td>4.154940e+11</td>\n",
       "      <td>1.902492e+10</td>\n",
       "    </tr>\n",
       "    <tr>\n",
       "      <th>2252</th>\n",
       "      <td>2021-10-07 00:00:00 UTC</td>\n",
       "      <td>3592.176130</td>\n",
       "      <td>4.235600e+11</td>\n",
       "      <td>2.470936e+10</td>\n",
       "    </tr>\n",
       "  </tbody>\n",
       "</table>\n",
       "<p>2253 rows × 4 columns</p>\n",
       "</div>"
      ],
      "text/plain": [
       "                   snapped_at        price    market_cap  total_volume\n",
       "0     2015-08-07 00:00:00 UTC     2.831620  0.000000e+00  9.062200e+04\n",
       "1     2015-08-08 00:00:00 UTC     1.330750  8.033948e+07  3.680700e+05\n",
       "2     2015-08-10 00:00:00 UTC     0.687586  4.155631e+07  4.004641e+05\n",
       "3     2015-08-11 00:00:00 UTC     1.067379  6.453901e+07  1.518998e+06\n",
       "4     2015-08-12 00:00:00 UTC     1.256613  7.601326e+07  2.073893e+06\n",
       "...                       ...          ...           ...           ...\n",
       "2248  2021-10-03 00:00:00 UTC  3393.924249  3.994560e+11  2.133505e+10\n",
       "2249  2021-10-04 00:00:00 UTC  3426.387081  4.039710e+11  1.813036e+10\n",
       "2250  2021-10-05 00:00:00 UTC  3390.310408  4.009560e+11  1.989847e+10\n",
       "2251  2021-10-06 00:00:00 UTC  3520.342257  4.154940e+11  1.902492e+10\n",
       "2252  2021-10-07 00:00:00 UTC  3592.176130  4.235600e+11  2.470936e+10\n",
       "\n",
       "[2253 rows x 4 columns]"
      ]
     },
     "execution_count": 19,
     "metadata": {},
     "output_type": "execute_result"
    }
   ],
   "source": [
    "data"
   ]
  },
  {
   "cell_type": "code",
   "execution_count": 22,
   "metadata": {},
   "outputs": [
    {
     "data": {
      "text/plain": [
       "2312.8316384"
      ]
     },
     "execution_count": 22,
     "metadata": {},
     "output_type": "execute_result"
    }
   ],
   "source": [
    "index = 1141\n",
    "data.iloc[index: index+10]['price'].sum()"
   ]
  },
  {
   "cell_type": "code",
   "execution_count": null,
   "metadata": {},
   "outputs": [],
   "source": []
  }
 ],
 "metadata": {
  "kernelspec": {
   "display_name": "Python 3",
   "language": "python",
   "name": "python3"
  },
  "language_info": {
   "codemirror_mode": {
    "name": "ipython",
    "version": 3
   },
   "file_extension": ".py",
   "mimetype": "text/x-python",
   "name": "python",
   "nbconvert_exporter": "python",
   "pygments_lexer": "ipython3",
   "version": "3.8.5"
  }
 },
 "nbformat": 4,
 "nbformat_minor": 4
}
